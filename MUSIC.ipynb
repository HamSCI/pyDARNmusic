{
 "cells": [
  {
   "cell_type": "code",
   "execution_count": null,
   "metadata": {},
   "outputs": [],
   "source": [
    "%pylab inline\n",
    "import datetime\n",
    "\n",
    "from matplotlib import pyplot as plt \n",
    "import numpy as np\n",
    "from music import musicArray,musicDataObj\n",
    "from ptrFitacf import PtrFit\n",
    "# from radDataTypes import radDataPtr\n",
    "from radDataRead import radDataOpen"
   ]
  },
  {
   "cell_type": "markdown",
   "metadata": {},
   "source": [
    "local_dirfmt = '/home/fran/code/SuperdarnW3usr/ForGitRepo/data_vt_bks/sd-data/2011/fitacf/bks/'\n",
    "\n",
    "sTime = datetime.datetime(2011,11,21,15)\n",
    "eTime = datetime.datetime(2011,11,21,23)\n",
    "\n",
    "myPtr = radDataPtr(sTime=sTime,radcode='bks', eTime=eTime, channel=None, bmnum=None, cp=None,\n",
    "                fileType='fitacf', filtered=False, src=None, fileName=None,\n",
    "                noCache=False, local_dirfmt=local_dirfmt, local_fnamefmt=None,\n",
    "                local_dict=None, remote_dirfmt=None, remote_fnamefmt=None,\n",
    "                remote_dict=None, remote_site=None, username=None,\n",
    "                password=None, port=None, tmpdir=None, remove=False,\n",
    "                try_file_types=True)"
   ]
  },
  {
   "cell_type": "code",
   "execution_count": null,
   "metadata": {},
   "outputs": [],
   "source": [
    "local_dirfmt = '/home/fran/code/SuperdarnW3usr/ForGitRepo/data_vt_bks/sd-data/2011/fitacf/bks/'\n",
    "sTime = datetime.datetime(2011,11,21,15)\n",
    "eTime = datetime.datetime(2011,11,21,23)\n",
    "\n",
    "myPtr = radDataOpen(sTime=sTime,radcode='bks', eTime=eTime, channel=None, bmnum=None, cp=None,\n",
    "                fileType='fitacf', filtered=False, src=None, fileName=None,\n",
    "                noCache=False, local_dirfmt=local_dirfmt, local_fnamefmt=None,\n",
    "                local_dict=None, remote_dirfmt=None, remote_fnamefmt=None,\n",
    "                remote_dict=None, remote_site=None, username=None,\n",
    "                password=None, port=None, tmpdir=None, remove=False,\n",
    "                try_file_types=True)"
   ]
  },
  {
   "cell_type": "code",
   "execution_count": null,
   "metadata": {},
   "outputs": [],
   "source": [
    "dataObj     = musicArray(myPtr,fovModel='GS')"
   ]
  },
  {
   "cell_type": "code",
   "execution_count": null,
   "metadata": {},
   "outputs": [],
   "source": []
  },
  {
   "cell_type": "code",
   "execution_count": null,
   "metadata": {},
   "outputs": [],
   "source": [
    "for fit in myPtr.fitacf:\n",
    "    print(fit.keys())\n",
    "    print(fit['origin.code'])\n",
    "    # pl =fit.get('p_l')\n",
    "    # try:\n",
    "    #     if(len(pl)>1):\n",
    "    #         # print(pl)\n",
    "    #         pass\n",
    "    # except Exception:\n",
    "    #     print(pl)\n"
   ]
  },
  {
   "cell_type": "code",
   "execution_count": null,
   "metadata": {},
   "outputs": [],
   "source": [
    "import os\n",
    "\n",
    "def find_files(filename, search_path):\n",
    "   result = []\n",
    "\n",
    "# Wlaking top-down from the root\n",
    "   for root, dir, files in os.walk(search_path):\n",
    "      if filename in files:\n",
    "         result.append(os.path.join(root, filename))\n",
    "   return result\n",
    "\n",
    "print(find_files(\"music.py\",\"/home/fran/code/davitpy\"))"
   ]
  },
  {
   "cell_type": "code",
   "execution_count": null,
   "metadata": {},
   "outputs": [],
   "source": []
  }
 ],
 "metadata": {
  "interpreter": {
   "hash": "dfb1d0d5d45e308c1703e995971ca70df29b06cb3ef3c4914a8fa75bd8c261ed"
  },
  "kernelspec": {
   "display_name": "Python 3.8.8 64-bit ('base': conda)",
   "language": "python",
   "name": "python3"
  },
  "language_info": {
   "codemirror_mode": {
    "name": "ipython",
    "version": 3
   },
   "file_extension": ".py",
   "mimetype": "text/x-python",
   "name": "python",
   "nbconvert_exporter": "python",
   "pygments_lexer": "ipython3",
   "version": "3.8.8"
  },
  "orig_nbformat": 4
 },
 "nbformat": 4,
 "nbformat_minor": 2
}
