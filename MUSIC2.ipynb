{
 "cells": [
  {
   "cell_type": "code",
   "execution_count": 1,
   "metadata": {},
   "outputs": [
    {
     "name": "stdout",
     "output_type": "stream",
     "text": [
      "Populating the interactive namespace from numpy and matplotlib\n",
      "\n",
      "IMPORTANT: Please make sure to cite pyDARN in publications that use plots created by pyDARN using DOI: https://zenodo.org/record/3727269. Citing information for SuperDARN data is found at https://pydarn.readthedocs.io/en/master/user/citing/\n"
     ]
    }
   ],
   "source": [
    "%pylab inline\n",
    "import datetime \n",
    "\n",
    "from matplotlib import pyplot as plt \n",
    "import numpy as np\n",
    "from music import musicArray,musicDataObj\n",
    "from ptrFitacf import PtrFit\n",
    "from radDataRead import radDataOpen\n",
    "from pydarnio import dmap2dict"
   ]
  },
  {
   "cell_type": "code",
   "execution_count": 9,
   "metadata": {},
   "outputs": [
    {
     "ename": "ModuleNotFoundError",
     "evalue": "No module named 'rti'",
     "output_type": "error",
     "traceback": [
      "\u001b[0;31m---------------------------------------------------------------------------\u001b[0m",
      "\u001b[0;31mModuleNotFoundError\u001b[0m                       Traceback (most recent call last)",
      "\u001b[0;32m/tmp/ipykernel_92394/482252871.py\u001b[0m in \u001b[0;36m<module>\u001b[0;34m\u001b[0m\n\u001b[0;32m----> 1\u001b[0;31m \u001b[0;32mfrom\u001b[0m \u001b[0mrti\u001b[0m \u001b[0;32mimport\u001b[0m \u001b[0mplot_freq\u001b[0m\u001b[0;34m,\u001b[0m\u001b[0mplot_nave\u001b[0m\u001b[0;34m,\u001b[0m\u001b[0mplot_skynoise\u001b[0m\u001b[0;34m,\u001b[0m\u001b[0mplot_searchnoise\u001b[0m\u001b[0;34m\u001b[0m\u001b[0;34m\u001b[0m\u001b[0m\n\u001b[0m",
      "\u001b[0;31mModuleNotFoundError\u001b[0m: No module named 'rti'"
     ]
    }
   ],
   "source": [
    "from rti import plot_freq,plot_nave,plot_skynoise,plot_searchnoise\n"
   ]
  },
  {
   "cell_type": "code",
   "execution_count": 2,
   "metadata": {},
   "outputs": [
    {
     "name": "stderr",
     "output_type": "stream",
     "text": [
      "WARNING:root:Unable to set temporary directory with rcParams. Using extra default of /tmp/sd/\n",
      "ERROR:root:Config entry DAVIT_LOCAL_FNAMEFMT not set,  using default: ['{date}.{hour}......{radar}.{ftype}', '{date}.{hour}......{radar}.{channel}.{ftype}']\n",
      "Traceback (most recent call last):\n",
      "  File \"/home/fran/code/music/radDataTypes.py\", line 311, in __init__\n",
      "    davitpy.rcParams['DAVIT_LOCAL_FNAMEFMT'].split(',')\n",
      "NameError: name 'davitpy' is not defined\n",
      "cat: /tmp/sd/20111121.1401.00.bks.fitacf/tmp/sd/20111121.1601.00.bks.fitacf/tmp/sd/20111121.1800.12.bks.fitacf/tmp/sd/20111121.2002.00.bks.fitacf/tmp/sd/20111121.2202.00.bks.fitacf: Not a directory\n"
     ]
    }
   ],
   "source": [
    "local_dirfmt = '/home/fran/code/SuperdarnW3usr/ForGitRepo/data_vt_bks/sd-data/2011/fitacf/bks/'\n",
    "sTime = datetime.datetime(2011,11,21,15)\n",
    "eTime = datetime.datetime(2011,11,21,23)\n",
    "\n",
    "myPtr = radDataOpen(sTime=sTime,radcode='bks', eTime=eTime, channel=None, bmnum=None, cp=None,\n",
    "                fileType='fitacf', filtered=False, src=None, fileName=None,\n",
    "                noCache=False, local_dirfmt=local_dirfmt, local_fnamefmt=None,\n",
    "                local_dict=None, remote_dirfmt=None, remote_fnamefmt=None,\n",
    "                remote_dict=None, remote_site=None, username=None,\n",
    "                password=None, port=None, tmpdir=None, remove=False,\n",
    "                try_file_types=True)"
   ]
  },
  {
   "cell_type": "code",
   "execution_count": 3,
   "metadata": {},
   "outputs": [
    {
     "name": "stdout",
     "output_type": "stream",
     "text": [
      "> \u001b[0;32m/home/fran/code/music/music.py\u001b[0m(726)\u001b[0;36m__init__\u001b[0;34m()\u001b[0m\n",
      "\u001b[0;32m    724 \u001b[0;31m        \u001b[0;31m#Convert lists to numpy arrays.\u001b[0m\u001b[0;34m\u001b[0m\u001b[0;34m\u001b[0m\u001b[0;34m\u001b[0m\u001b[0m\n",
      "\u001b[0m\u001b[0;32m    725 \u001b[0;31m        \u001b[0;32mimport\u001b[0m \u001b[0mpdb\u001b[0m\u001b[0;34m;\u001b[0m \u001b[0mpdb\u001b[0m\u001b[0;34m.\u001b[0m\u001b[0mset_trace\u001b[0m\u001b[0;34m(\u001b[0m\u001b[0;34m)\u001b[0m\u001b[0;34m\u001b[0m\u001b[0;34m\u001b[0m\u001b[0m\n",
      "\u001b[0m\u001b[0;32m--> 726 \u001b[0;31m        \u001b[0mtimeArray\u001b[0m       \u001b[0;34m=\u001b[0m \u001b[0mnp\u001b[0m\u001b[0;34m.\u001b[0m\u001b[0marray\u001b[0m\u001b[0;34m(\u001b[0m\u001b[0mscanTimeList\u001b[0m\u001b[0;34m)\u001b[0m\u001b[0;34m\u001b[0m\u001b[0;34m\u001b[0m\u001b[0m\n",
      "\u001b[0m\u001b[0;32m    727 \u001b[0;31m        \u001b[0mdataListArray\u001b[0m   \u001b[0;34m=\u001b[0m \u001b[0mnp\u001b[0m\u001b[0;34m.\u001b[0m\u001b[0marray\u001b[0m\u001b[0;34m(\u001b[0m\u001b[0mdataList\u001b[0m\u001b[0;34m)\u001b[0m\u001b[0;34m\u001b[0m\u001b[0;34m\u001b[0m\u001b[0m\n",
      "\u001b[0m\u001b[0;32m    728 \u001b[0;31m        \u001b[0;31m# If no data, report and return.\u001b[0m\u001b[0;34m\u001b[0m\u001b[0;34m\u001b[0m\u001b[0;34m\u001b[0m\u001b[0m\n",
      "\u001b[0m\n"
     ]
    }
   ],
   "source": [
    "dataObj     = musicArray(myPtr,fovModel='GS')"
   ]
  },
  {
   "cell_type": "code",
   "execution_count": 4,
   "metadata": {},
   "outputs": [
    {
     "data": {
      "text/plain": [
       "['DS000_originalFit']"
      ]
     },
     "execution_count": 4,
     "metadata": {},
     "output_type": "execute_result"
    }
   ],
   "source": [
    "dataObj.get_data_sets()"
   ]
  },
  {
   "cell_type": "code",
   "execution_count": 5,
   "metadata": {},
   "outputs": [
    {
     "name": "stdout",
     "output_type": "stream",
     "text": [
      "channel: None\n",
      "code:  bks\n",
      "coords: geo\n",
      "cp: None\n",
      "dType: dmap\n",
      "dataSetName: DS000_originalFit\n",
      "eTime: 2011-11-21 23:00:00\n",
      "elevation: None\n",
      "fType: fitacf\n",
      "gscat: 1\n",
      "model: GS\n",
      "name:  Blackstone\n",
      "param: p_l\n",
      "sTime: 2011-11-21 15:00:00\n",
      "serial: 0\n",
      "stid: 33\n"
     ]
    }
   ],
   "source": [
    "dataObj.DS000_originalFit.printMetadata()"
   ]
  },
  {
   "cell_type": "code",
   "execution_count": 6,
   "metadata": {},
   "outputs": [
    {
     "name": "stdout",
     "output_type": "stream",
     "text": [
      "2022-02-28 15:07:24.251769 [DS000_originalFit] Original Fit Data\n"
     ]
    }
   ],
   "source": [
    "dataObj.DS000_originalFit.printHistory()"
   ]
  },
  {
   "cell_type": "code",
   "execution_count": 7,
   "metadata": {},
   "outputs": [
    {
     "name": "stdout",
     "output_type": "stream",
     "text": [
      "2022-02-28 15:07:24.251769 [DS000_originalFit] Original Fit Data\n"
     ]
    }
   ],
   "source": [
    "dataObj.active.printHistory()"
   ]
  },
  {
   "cell_type": "code",
   "execution_count": 8,
   "metadata": {},
   "outputs": [
    {
     "ename": "ImportError",
     "evalue": "attempted relative import with no known parent package",
     "output_type": "error",
     "traceback": [
      "\u001b[0;31m---------------------------------------------------------------------------\u001b[0m",
      "\u001b[0;31mImportError\u001b[0m                               Traceback (most recent call last)",
      "\u001b[0;32m/tmp/ipykernel_92394/3816922088.py\u001b[0m in \u001b[0;36m<module>\u001b[0;34m\u001b[0m\n\u001b[1;32m      1\u001b[0m \u001b[0;32mfrom\u001b[0m \u001b[0mmusicPlot\u001b[0m \u001b[0;32mimport\u001b[0m \u001b[0mmusicRTI\u001b[0m\u001b[0;34m\u001b[0m\u001b[0;34m\u001b[0m\u001b[0m\n\u001b[0;32m----> 2\u001b[0;31m \u001b[0mfig\u001b[0m \u001b[0;34m=\u001b[0m \u001b[0mmusicRTI\u001b[0m\u001b[0;34m(\u001b[0m\u001b[0mdataObj\u001b[0m\u001b[0;34m)\u001b[0m\u001b[0;34m\u001b[0m\u001b[0;34m\u001b[0m\u001b[0m\n\u001b[0m",
      "\u001b[0;32m~/code/music/musicPlot.py\u001b[0m in \u001b[0;36m__init__\u001b[0;34m(self, dataObject, dataSet, beam, coords, xlim, ylim, axis, scale, plotZeros, max_sounding_time, xBoundaryLimits, yBoundaryLimits, yticks, ytick_lat_format, autoScale, plotTerminator, axvlines, axvline_color, secondary_coords, plot_info, plot_title, plot_range_limits_label, cmap_handling, cmap, bounds, norm, plot_cbar, cbar_ticks, cbar_shrink, cbar_fraction, cbar_gstext_offset, cbar_gstext_fontsize, model_text_size, y_labelpad, **kwArgs)\u001b[0m\n\u001b[1;32m    118\u001b[0m \u001b[0;34m\u001b[0m\u001b[0m\n\u001b[1;32m    119\u001b[0m         \u001b[0;32mfrom\u001b[0m \u001b[0mscipy\u001b[0m \u001b[0;32mimport\u001b[0m \u001b[0mstats\u001b[0m\u001b[0;34m\u001b[0m\u001b[0;34m\u001b[0m\u001b[0m\n\u001b[0;32m--> 120\u001b[0;31m         \u001b[0;32mfrom\u001b[0m \u001b[0;34m.\u001b[0m\u001b[0mrti\u001b[0m \u001b[0;32mimport\u001b[0m \u001b[0mplot_freq\u001b[0m\u001b[0;34m,\u001b[0m\u001b[0mplot_nave\u001b[0m\u001b[0;34m,\u001b[0m\u001b[0mplot_skynoise\u001b[0m\u001b[0;34m,\u001b[0m\u001b[0mplot_searchnoise\u001b[0m\u001b[0;34m\u001b[0m\u001b[0;34m\u001b[0m\u001b[0m\n\u001b[0m\u001b[1;32m    121\u001b[0m \u001b[0;34m\u001b[0m\u001b[0m\n\u001b[1;32m    122\u001b[0m         \u001b[0;32mif\u001b[0m \u001b[0maxis\u001b[0m \u001b[0;32mis\u001b[0m \u001b[0;32mNone\u001b[0m\u001b[0;34m:\u001b[0m\u001b[0;34m\u001b[0m\u001b[0;34m\u001b[0m\u001b[0m\n",
      "\u001b[0;31mImportError\u001b[0m: attempted relative import with no known parent package"
     ]
    }
   ],
   "source": [
    "from musicPlot import musicRTI\n",
    "fig = musicRTI(dataObj)"
   ]
  },
  {
   "cell_type": "code",
   "execution_count": null,
   "metadata": {},
   "outputs": [],
   "source": [
    "scan1 = myPtr.readScan()\n",
    "print(scan1)\n",
    "scan2 = myPtr.readScan()\n",
    "# print(scan2)"
   ]
  },
  {
   "cell_type": "code",
   "execution_count": null,
   "metadata": {},
   "outputs": [],
   "source": [
    "import bz2\n",
    "import pydarn\n",
    "\n",
    "fitacf_file = \"/home/fran/code/SuperdarnW3usr/ForGitRepo/data_vt_bks/sd-data/2011/fitacf/bks/20111122.1602.00.bks.fitacf.bz2\"\n",
    "with bz2.open(fitacf_file) as fp:\n",
    "      fitacf_stream = fp.read()\n",
    "\n",
    "reader = pydarn.SuperDARNRead(fitacf_stream, True)\n",
    "rec = reader.read_record()\n",
    "rec2 = reader.read_record()\n",
    "records = reader.read_fitacf()\n"
   ]
  },
  {
   "cell_type": "code",
   "execution_count": null,
   "metadata": {},
   "outputs": [],
   "source": [
    "print(records[0])\n",
    "# print(rec)\n"
   ]
  },
  {
   "cell_type": "code",
   "execution_count": null,
   "metadata": {},
   "outputs": [],
   "source": [
    "rec = dmap2dict([rec])[0]\n",
    "print(rec[\"bmnum\"])"
   ]
  },
  {
   "cell_type": "code",
   "execution_count": null,
   "metadata": {},
   "outputs": [],
   "source": [
    "import pydarn\n",
    "import datetime\n",
    "\n",
    "s = datetime.datetime(2011,11,21,15)\n",
    "hdw_data    = pydarn.read_hdw_file(\"bks\",s)\n",
    "print(hdw_data.stid)"
   ]
  },
  {
   "cell_type": "code",
   "execution_count": null,
   "metadata": {},
   "outputs": [],
   "source": [
    "print(hdw_data.beam_separation)"
   ]
  },
  {
   "cell_type": "code",
   "execution_count": null,
   "metadata": {},
   "outputs": [],
   "source": [
    "import radStruct\n",
    "import datetime\n",
    "\n",
    "s = datetime.datetime(2011,11,21,15)\n",
    "site = radStruct.site(\"bks\",s)\n",
    "print(site.bmsep)"
   ]
  },
  {
   "cell_type": "code",
   "execution_count": null,
   "metadata": {},
   "outputs": [],
   "source": [
    "import aacgmv2\n",
    "print(aacgmv2.IGRF_COEFFS)"
   ]
  }
 ],
 "metadata": {
  "interpreter": {
   "hash": "dfb1d0d5d45e308c1703e995971ca70df29b06cb3ef3c4914a8fa75bd8c261ed"
  },
  "kernelspec": {
   "display_name": "Python 3.8.8 64-bit ('base': conda)",
   "language": "python",
   "name": "python3"
  },
  "language_info": {
   "codemirror_mode": {
    "name": "ipython",
    "version": 3
   },
   "file_extension": ".py",
   "mimetype": "text/x-python",
   "name": "python",
   "nbconvert_exporter": "python",
   "pygments_lexer": "ipython3",
   "version": "3.8.8"
  },
  "orig_nbformat": 4
 },
 "nbformat": 4,
 "nbformat_minor": 2
}
