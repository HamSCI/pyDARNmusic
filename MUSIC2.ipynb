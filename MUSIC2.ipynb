{
 "cells": [
  {
   "cell_type": "code",
   "execution_count": null,
   "metadata": {},
   "outputs": [],
   "source": [
    "%pylab inline\n",
    "import datetime\n",
    "\n",
    "from matplotlib import pyplot as plt \n",
    "import numpy as np\n",
    "from music import musicArray,musicDataObj\n",
    "from ptrFitacf import PtrFit\n",
    "from radDataRead import radDataOpen\n",
    "from pydarnio import dmap2dict"
   ]
  },
  {
   "cell_type": "code",
   "execution_count": null,
   "metadata": {},
   "outputs": [],
   "source": [
    "local_dirfmt = '/home/fran/code/SuperdarnW3usr/ForGitRepo/data_vt_bks/sd-data/2011/fitacf/bks/'\n",
    "sTime = datetime.datetime(2011,11,21,15)\n",
    "eTime = datetime.datetime(2011,11,21,23)\n",
    "\n",
    "myPtr = radDataOpen(sTime=sTime,radcode='bks', eTime=eTime, channel=None, bmnum=None, cp=None,\n",
    "                fileType='fitacf', filtered=False, src=None, fileName=None,\n",
    "                noCache=False, local_dirfmt=local_dirfmt, local_fnamefmt=None,\n",
    "                local_dict=None, remote_dirfmt=None, remote_fnamefmt=None,\n",
    "                remote_dict=None, remote_site=None, username=None,\n",
    "                password=None, port=None, tmpdir=None, remove=False,\n",
    "                try_file_types=True)"
   ]
  },
  {
   "cell_type": "code",
   "execution_count": null,
   "metadata": {},
   "outputs": [],
   "source": [
    "dataObj     = musicArray(myPtr,fovModel='GS')"
   ]
  },
  {
   "cell_type": "code",
   "execution_count": null,
   "metadata": {},
   "outputs": [],
   "source": [
    "dataObj.get_data_sets()"
   ]
  },
  {
   "cell_type": "code",
   "execution_count": null,
   "metadata": {},
   "outputs": [],
   "source": [
    "dataObj.DS000_originalFit.printMetadata()"
   ]
  },
  {
   "cell_type": "code",
   "execution_count": null,
   "metadata": {},
   "outputs": [],
   "source": [
    "dataObj.DS000_originalFit.printHistory()"
   ]
  },
  {
   "cell_type": "code",
   "execution_count": null,
   "metadata": {},
   "outputs": [],
   "source": [
    "dataObj.active.printHistory()"
   ]
  },
  {
   "cell_type": "code",
   "execution_count": null,
   "metadata": {},
   "outputs": [],
   "source": [
    "from musicPlot import musicRTI\n",
    "fig = musicRTI(dataObj)"
   ]
  },
  {
   "cell_type": "code",
   "execution_count": null,
   "metadata": {},
   "outputs": [],
   "source": [
    "scan1 = myPtr.readScan()\n",
    "print(scan1)\n",
    "scan2 = myPtr.readScan()\n",
    "# print(scan2)"
   ]
  },
  {
   "cell_type": "code",
   "execution_count": null,
   "metadata": {},
   "outputs": [],
   "source": [
    "import bz2\n",
    "import pydarn\n",
    "\n",
    "fitacf_file = \"/home/fran/code/SuperdarnW3usr/ForGitRepo/data_vt_bks/sd-data/2011/fitacf/bks/20111122.1602.00.bks.fitacf.bz2\"\n",
    "with bz2.open(fitacf_file) as fp:\n",
    "      fitacf_stream = fp.read()\n",
    "\n",
    "reader = pydarn.SuperDARNRead(fitacf_stream, True)\n",
    "rec = reader.read_record()\n",
    "rec2 = reader.read_record()\n",
    "records = reader.read_fitacf()\n"
   ]
  },
  {
   "cell_type": "code",
   "execution_count": null,
   "metadata": {},
   "outputs": [],
   "source": [
    "print(records[0])\n",
    "# print(rec)\n"
   ]
  },
  {
   "cell_type": "code",
   "execution_count": null,
   "metadata": {},
   "outputs": [],
   "source": [
    "rec = dmap2dict([rec])[0]\n",
    "print(rec[\"bmnum\"])"
   ]
  },
  {
   "cell_type": "code",
   "execution_count": null,
   "metadata": {},
   "outputs": [],
   "source": [
    "import pydarn\n",
    "import datetime\n",
    "\n",
    "s = datetime.datetime(2011,11,21,15)\n",
    "hdw_data    = pydarn.read_hdw_file(\"bks\",s)\n",
    "print(hdw_data.stid)"
   ]
  },
  {
   "cell_type": "code",
   "execution_count": null,
   "metadata": {},
   "outputs": [],
   "source": [
    "print(hdw_data.beam_separation)"
   ]
  },
  {
   "cell_type": "code",
   "execution_count": null,
   "metadata": {},
   "outputs": [],
   "source": [
    "import radStruct\n",
    "import datetime\n",
    "\n",
    "s = datetime.datetime(2011,11,21,15)\n",
    "site = radStruct.site(\"bks\",s)\n",
    "print(site.bmsep)"
   ]
  },
  {
   "cell_type": "code",
   "execution_count": null,
   "metadata": {},
   "outputs": [],
   "source": [
    "import aacgmv2\n",
    "print(aacgmv2.IGRF_COEFFS)"
   ]
  }
 ],
 "metadata": {
  "interpreter": {
   "hash": "dfb1d0d5d45e308c1703e995971ca70df29b06cb3ef3c4914a8fa75bd8c261ed"
  },
  "kernelspec": {
   "display_name": "Python 3.8.8 64-bit ('base': conda)",
   "language": "python",
   "name": "python3"
  },
  "language_info": {
   "codemirror_mode": {
    "name": "ipython",
    "version": 3
   },
   "file_extension": ".py",
   "mimetype": "text/x-python",
   "name": "python",
   "nbconvert_exporter": "python",
   "pygments_lexer": "ipython3",
   "version": "3.8.8"
  },
  "orig_nbformat": 4
 },
 "nbformat": 4,
 "nbformat_minor": 2
}
