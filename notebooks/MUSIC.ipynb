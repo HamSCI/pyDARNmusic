{
 "cells": [
  {
   "cell_type": "code",
   "execution_count": 1,
   "metadata": {},
   "outputs": [
    {
     "name": "stdout",
     "output_type": "stream",
     "text": [
      "%pylab is deprecated, use %matplotlib inline and import the required libraries.\n",
      "Populating the interactive namespace from numpy and matplotlib\n",
      "\n",
      "IMPORTANT: Please make sure to cite pyDARN in publications that use plots created by pyDARN using DOI: https://zenodo.org/record/3727269. Citing information for SuperDARN data is found at https://pydarn.readthedocs.io/en/master/user/citing/\n"
     ]
    }
   ],
   "source": [
    "%pylab inline\n",
    "import datetime\n",
    "\n",
    "from matplotlib import pyplot as plt \n",
    "import numpy as np\n",
    "from music import musicArray,musicDataObj\n",
    "from ptrFitacf import PtrFit\n",
    "# from radDataTypes import radDataPtr\n",
    "from radDataRead import radDataOpen"
   ]
  },
  {
   "cell_type": "markdown",
   "metadata": {},
   "source": [
    "local_dirfmt = '/home/fran/code/SuperdarnW3usr/ForGitRepo/data_vt_bks/sd-data/2011/fitacf/bks/'\n",
    "\n",
    "sTime = datetime.datetime(2011,11,21,15)\n",
    "eTime = datetime.datetime(2011,11,21,23)\n",
    "\n",
    "myPtr = radDataPtr(sTime=sTime,radcode='bks', eTime=eTime, channel=None, bmnum=None, cp=None,\n",
    "                fileType='fitacf', filtered=False, src=None, fileName=None,\n",
    "                noCache=False, local_dirfmt=local_dirfmt, local_fnamefmt=None,\n",
    "                local_dict=None, remote_dirfmt=None, remote_fnamefmt=None,\n",
    "                remote_dict=None, remote_site=None, username=None,\n",
    "                password=None, port=None, tmpdir=None, remove=False,\n",
    "                try_file_types=True)"
   ]
  },
  {
   "cell_type": "code",
   "execution_count": 2,
   "metadata": {},
   "outputs": [
    {
     "name": "stderr",
     "output_type": "stream",
     "text": [
      "WARNING:root:Unable to set temporary directory with rcParams. Using extra default of /tmp/sd/\n"
     ]
    }
   ],
   "source": [
    "local_dirfmt = '/home/fran/code/SuperdarnW3usr/ForGitRepo/data_vt_bks/sd-data/2011/fitacf/bks/'\n",
    "sTime = datetime.datetime(2011,11,21,15)\n",
    "eTime = datetime.datetime(2011,11,21,23)\n",
    "\n",
    "myPtr = radDataOpen(sTime=sTime,radcode='bks', eTime=eTime, channel=None, bmnum=None, cp=None,\n",
    "                fileType='fitacf', filtered=False, src=None, fileName=None,\n",
    "                noCache=False, local_dirfmt=local_dirfmt, local_fnamefmt=None,\n",
    "                local_dict=None, remote_dirfmt=None, remote_fnamefmt=None,\n",
    "                remote_dict=None, remote_site=None, username=None,\n",
    "                password=None, port=None, tmpdir=None, remove=False,\n",
    "                try_file_types=True)"
   ]
  },
  {
   "cell_type": "code",
   "execution_count": 3,
   "metadata": {},
   "outputs": [
    {
     "ename": "AttributeError",
     "evalue": "'NoneType' object has no attribute 'read_one_record'",
     "output_type": "error",
     "traceback": [
      "\u001b[0;31m---------------------------------------------------------------------------\u001b[0m",
      "\u001b[0;31mAttributeError\u001b[0m                            Traceback (most recent call last)",
      "Input \u001b[0;32mIn [3]\u001b[0m, in \u001b[0;36m<cell line: 1>\u001b[0;34m()\u001b[0m\n\u001b[0;32m----> 1\u001b[0m dataObj     \u001b[38;5;241m=\u001b[39m \u001b[43mmusicArray\u001b[49m\u001b[43m(\u001b[49m\u001b[43mmyPtr\u001b[49m\u001b[43m,\u001b[49m\u001b[43mfovModel\u001b[49m\u001b[38;5;241;43m=\u001b[39;49m\u001b[38;5;124;43m'\u001b[39;49m\u001b[38;5;124;43mGS\u001b[39;49m\u001b[38;5;124;43m'\u001b[39;49m\u001b[43m)\u001b[49m\n",
      "File \u001b[0;32m~/code/music/music.py:646\u001b[0m, in \u001b[0;36mmusicArray.__init__\u001b[0;34m(self, myPtr, sTime, eTime, param, gscat, fovElevation, fovModel, fovCoords, full_array, scan_index, channel)\u001b[0m\n\u001b[1;32m    641\u001b[0m \u001b[38;5;66;03m# index = 0\u001b[39;00m\n\u001b[1;32m    642\u001b[0m \u001b[38;5;28;01mwhile\u001b[39;00m beamTime \u001b[38;5;241m<\u001b[39m eTime:\n\u001b[1;32m    643\u001b[0m     \u001b[38;5;66;03m# print(beamTime)\u001b[39;00m\n\u001b[1;32m    644\u001b[0m     \u001b[38;5;66;03m# print(index,\" : \",beamTime)\u001b[39;00m\n\u001b[1;32m    645\u001b[0m     \u001b[38;5;66;03m# index +=1\u001b[39;00m\n\u001b[0;32m--> 646\u001b[0m     myScan  \u001b[38;5;241m=\u001b[39m \u001b[43mmyPtr\u001b[49m\u001b[38;5;241;43m.\u001b[39;49m\u001b[43mreadScan\u001b[49m\u001b[43m(\u001b[49m\u001b[43m)\u001b[49m\n\u001b[1;32m    647\u001b[0m     \u001b[38;5;28;01mif\u001b[39;00m myScan \u001b[38;5;241m==\u001b[39m \u001b[38;5;28;01mNone\u001b[39;00m: \u001b[38;5;28;01mbreak\u001b[39;00m\n\u001b[1;32m    648\u001b[0m     goodScan \u001b[38;5;241m=\u001b[39m \u001b[38;5;28;01mFalse\u001b[39;00m \u001b[38;5;66;03m# This flag turns to True as soon as good data is found for the scan.\u001b[39;00m\n",
      "File \u001b[0;32m~/code/music/radDataTypes.py:614\u001b[0m, in \u001b[0;36mradDataPtr.readScan\u001b[0;34m(self, firstBeam, useEvery, warnNonStandard, showBeams)\u001b[0m\n\u001b[1;32m    611\u001b[0m recs \u001b[38;5;241m=\u001b[39m \u001b[38;5;28mself\u001b[39m\u001b[38;5;241m.\u001b[39m__records\n\u001b[1;32m    612\u001b[0m \u001b[38;5;66;03m# import pdb; pdb.set_trace()\u001b[39;00m\n\u001b[1;32m    613\u001b[0m \u001b[38;5;66;03m# get first beam in the scan\u001b[39;00m\n\u001b[0;32m--> 614\u001b[0m myBeam \u001b[38;5;241m=\u001b[39m \u001b[38;5;28;43mself\u001b[39;49m\u001b[38;5;241;43m.\u001b[39;49m\u001b[43mreadRec\u001b[49m\u001b[43m(\u001b[49m\u001b[43m)\u001b[49m\n\u001b[1;32m    615\u001b[0m \u001b[38;5;28;01mif\u001b[39;00m myBeam \u001b[38;5;129;01mis\u001b[39;00m \u001b[38;5;28;01mNone\u001b[39;00m:  \u001b[38;5;66;03m# no more data\u001b[39;00m\n\u001b[1;32m    616\u001b[0m     \u001b[38;5;28mself\u001b[39m\u001b[38;5;241m.\u001b[39mbmnum \u001b[38;5;241m=\u001b[39m orig_beam\n",
      "File \u001b[0;32m~/code/music/radDataTypes.py:723\u001b[0m, in \u001b[0;36mradDataPtr.readRec\u001b[0;34m(self)\u001b[0m\n\u001b[1;32m    721\u001b[0m \u001b[38;5;66;03m# import pdb;pdb.set_trace()\u001b[39;00m\n\u001b[1;32m    722\u001b[0m \u001b[38;5;28;01mwhile\u001b[39;00m(\u001b[38;5;241m1\u001b[39m):\n\u001b[0;32m--> 723\u001b[0m     dfile \u001b[38;5;241m=\u001b[39m \u001b[43mrecords\u001b[49m\u001b[38;5;241;43m.\u001b[39;49m\u001b[43mread_one_record\u001b[49m()\n\u001b[1;32m    724\u001b[0m     offset \u001b[38;5;241m=\u001b[39m records\u001b[38;5;241m.\u001b[39mget_previous()\n\u001b[1;32m    725\u001b[0m     \u001b[38;5;66;03m# index += 1\u001b[39;00m\n",
      "\u001b[0;31mAttributeError\u001b[0m: 'NoneType' object has no attribute 'read_one_record'"
     ]
    }
   ],
   "source": [
    "dataObj     = musicArray(myPtr,fovModel='GS')"
   ]
  },
  {
   "cell_type": "code",
   "execution_count": null,
   "metadata": {},
   "outputs": [],
   "source": []
  },
  {
   "cell_type": "code",
   "execution_count": null,
   "metadata": {},
   "outputs": [],
   "source": [
    "for fit in myPtr.fitacf:\n",
    "    print(fit.keys())\n",
    "    print(fit['origin.code'])\n",
    "    # pl =fit.get('p_l')\n",
    "    # try:\n",
    "    #     if(len(pl)>1):\n",
    "    #         # print(pl)\n",
    "    #         pass\n",
    "    # except Exception:\n",
    "    #     print(pl)\n"
   ]
  },
  {
   "cell_type": "code",
   "execution_count": null,
   "metadata": {},
   "outputs": [],
   "source": [
    "import os\n",
    "\n",
    "def find_files(filename, search_path):\n",
    "   result = []\n",
    "\n",
    "# Wlaking top-down from the root\n",
    "   for root, dir, files in os.walk(search_path):\n",
    "      if filename in files:\n",
    "         result.append(os.path.join(root, filename))\n",
    "   return result\n",
    "\n",
    "print(find_files(\"music.py\",\"/home/fran/code/davitpy\"))"
   ]
  },
  {
   "cell_type": "code",
   "execution_count": null,
   "metadata": {},
   "outputs": [],
   "source": []
  }
 ],
 "metadata": {
  "interpreter": {
   "hash": "dfb1d0d5d45e308c1703e995971ca70df29b06cb3ef3c4914a8fa75bd8c261ed"
  },
  "kernelspec": {
   "display_name": "Python 3.8.8 64-bit ('base': conda)",
   "language": "python",
   "name": "python3"
  },
  "language_info": {
   "codemirror_mode": {
    "name": "ipython",
    "version": 3
   },
   "file_extension": ".py",
   "mimetype": "text/x-python",
   "name": "python",
   "nbconvert_exporter": "python",
   "pygments_lexer": "ipython3",
   "version": "3.8.8"
  },
  "orig_nbformat": 4
 },
 "nbformat": 4,
 "nbformat_minor": 2
}
