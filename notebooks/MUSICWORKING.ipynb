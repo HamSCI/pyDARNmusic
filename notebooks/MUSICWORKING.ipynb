{
 "cells": [
  {
   "cell_type": "markdown",
   "metadata": {},
   "source": [
    "# MUSIC (MUltiple SIgnal Classification) Notebook"
   ]
  },
  {
   "cell_type": "markdown",
   "metadata": {},
   "source": [
    "The MUSIC (MUltiple SIgnal Classification) algorithm is a rather generic and well-know algorithm in signal process used for the detection of multiple waves within an array of sensors [Schmidt, 1986].  MUSIC was originally used in SuperDARN by Samson et al. [1990] and Bristow et al. [1994] for the estimation of the characteristics of Medium Scale Traveling Ionospheric Disturbances (MSTIDs) detected by SuperDARN Radars.  These papers have inspired this implementation of the MUSIC algorithm.\n",
    "\n",
    "While this code has been written with SuperDARN detected MSTIDs in mind, it may be useful for working with other wave-like perturbations moving across the field of view of some geophysical instrument.\n",
    "\n",
    "This notebook demonstrates the use of the DaViTPy MUSIC module for MSTID parameter estimation.\n",
    "\n",
    "The DaViTPy MUSIC module is used by creating a musicArray object, which includes built-in methods for keeping track of all steps in the processing algorithm.  As the data is processed, all preceeding variants of the data are saved within the object and a history is created.  This makes it very easy to see what has been done with the data at any step along the way.\n",
    "\n",
    "*Written by N.A. Frissell, 4 November 2013.*"
   ]
  },
  {
   "cell_type": "markdown",
   "metadata": {},
   "source": [
    "**References**\n",
    "\n",
    "Bristow, W. A., R. A. Greenwald, and J. C. Samson (1994), Identification of high-latitude acoustic gravity wave sources using the Goose Bay HF Radar, J. Geophys. Res., 99(A1), 319–331, doi:10.1029/93JA01470.\n",
    "\n",
    "Samson, J. C., R. A. Greenwald, J. M. Ruohoniemi, A. Frey, and K. B. Baker (1990), Goose Bay radar observations of Earth-reflected, atmospheric gravity waves in the high-latitude ionosphere, J. Geophys. Res., 95(A6), 7693–7709, doi:10.1029/JA095iA06p07693.\n",
    "\n",
    "Schmidt, R.O., \"Multiple emitter location and signal parameter estimation,\" Antennas and Propagation, IEEE Transactions on, vol.34, no.3, pp.276,280, Mar 1986, doi:10.1109/TAP.1986.1143830."
   ]
  },
  {
   "cell_type": "code",
   "execution_count": 7,
   "metadata": {},
   "outputs": [],
   "source": [
    "#Import the modules we need.\n",
    "%matplotlib inline\n",
    "import datetime\n",
    "\n",
    "from matplotlib import pyplot as plt \n",
    "import numpy as np\n",
    "from music import musicArray,musicDataObj\n",
    "from plotting.musicPlot import musicRTI\n",
    "from radDataRead import radDataOpen\n",
    "from music import defineLimits, filterTimes,beamInterpolation,timeInterpolation,determineRelativePosition\n",
    "from plotting.musicPlot import musicFan,timeSeriesMultiPlot,plotRelativeRanges\n",
    "\n",
    "import pydarn\n",
    "import pydarnio"
   ]
  },
  {
   "cell_type": "code",
   "execution_count": null,
   "metadata": {},
   "outputs": [],
   "source": []
  },
  {
   "cell_type": "markdown",
   "metadata": {},
   "source": [
    "# MUSIC Processing Example"
   ]
  },
  {
   "cell_type": "markdown",
   "metadata": {},
   "source": [
    "## Loading Data and Basic Plotting"
   ]
  },
  {
   "cell_type": "code",
   "execution_count": 9,
   "metadata": {
    "collapsed": false,
    "jupyter": {
     "outputs_hidden": false
    }
   },
   "outputs": [
    {
     "name": "stderr",
     "output_type": "stream",
     "text": [
      "ERROR:root:Config entry DAVIT_LOCAL_FNAMEFMT not set,  using default: ['{date}.{hour}......{radar}.{ftype}', '{date}.{hour}......{radar}.{channel}.{ftype}']\n",
      "NoneType: None\n"
     ]
    },
    {
     "name": "stdout",
     "output_type": "stream",
     "text": [
      "RunTime: 3.249680995941162\n",
      "RunTime: 2.972712516784668\n",
      "Runtime: 6.351561784744263\n"
     ]
    },
    {
     "name": "stderr",
     "output_type": "stream",
     "text": [
      "cat: /tmp/sd/20101119.1401.00.bks.fitacf/tmp/sd/20101119.1601.00.bks.fitacf: Not a directory\n"
     ]
    }
   ],
   "source": [
    "#Choose the radar and time of the data that we want to look at.\n",
    "#Then, connect to the data source using the standard DaViTPy\n",
    "#pydarn.sdio.radDataOpen() routine.\n",
    "# channel = 'a'\n",
    "bmnum = 7\n",
    "# cp = None\n",
    "fileType = 'fitacf'\n",
    "# filtered = False\n",
    "# src = None\n",
    "rad='bks'\n",
    "syear = 2010\n",
    "smonth = 11\n",
    "sday = 19\n",
    "shour = 14\n",
    "sminute = 11\n",
    "\n",
    "eyear = 2010\n",
    "emonth = 11\n",
    "eday = 19\n",
    "ehour = 16\n",
    "eminute = 11\n",
    "\n",
    "# local_dirfmt = '/home/fran/code/SuperdarnW3usr/ForGitRepo/data_vt_bks/sd-data/2010/fitacf/bks/'\n",
    "# local_dirfmt = f'/home/fran/code/SuperdarnW3usr/ForGitRepo/{syear}/{fileType}/data_vt_{rad}/'\n",
    "# fileName = f'/home/fran/code/SuperdarnW3usr/ForGitRepo/{syear}/{fileType}/data_vt_{rad}/20101119.1401.00.bks.fitacf.bz2'\n",
    "\n",
    "local_dirfmt = f'/sd-data/{syear}/{fileType}/{rad}/'\n",
    "\n",
    "sTime = datetime.datetime(syear,smonth,sday,shour,sminute)\n",
    "eTime = datetime.datetime(eyear,emonth,eday,ehour,eminute)\n",
    "\n",
    "myPtr = radDataOpen(sTime=sTime,radcode=rad, eTime=eTime, channel=None, bmnum=None, cp=None,\n",
    "                fileType=fileType, filtered=False, src=None, fileName=None,\n",
    "                noCache=False, local_dirfmt=local_dirfmt, local_fnamefmt=None,\n",
    "                local_dict=None, remote_dirfmt=None, remote_fnamefmt=None,\n",
    "                remote_dict=None, remote_site=None, username=None,\n",
    "                password=None, port=None, tmpdir=None, remove=False,\n",
    "                try_file_types=True)"
   ]
  },
  {
   "cell_type": "code",
   "execution_count": null,
   "metadata": {},
   "outputs": [],
   "source": [
    "# print(myPtr)"
   ]
  },
  {
   "cell_type": "code",
   "execution_count": 3,
   "metadata": {
    "collapsed": false,
    "jupyter": {
     "outputs_hidden": false
    }
   },
   "outputs": [
    {
     "name": "stderr",
     "output_type": "stream",
     "text": [
      "/home/w2naf/code/MUSIC/radar/radFov.py: 790: SyntaxWarning: \"is\" with a literal. Did you mean \"==\"?\n",
      "/home/w2naf/code/MUSIC/radar/radFov.py: 790: SyntaxWarning: \"is\" with a literal. Did you mean \"==\"?\n",
      "/home/w2naf/code/MUSIC/radar/radFov.py: 790: SyntaxWarning: \"is\" with a literal. Did you mean \"==\"?\n",
      "/home/w2naf/code/MUSIC/radar/radFov.py: 790: SyntaxWarning: \"is\" with a literal. Did you mean \"==\"?\n"
     ]
    },
    {
     "ename": "ValueError",
     "evalue": "The truth value of an array with more than one element is ambiguous. Use a.any() or a.all()",
     "output_type": "error",
     "traceback": [
      "\u001b[0;31m---------------------------------------------------------------------------\u001b[0m",
      "\u001b[0;31mValueError\u001b[0m                                Traceback (most recent call last)",
      "Input \u001b[0;32mIn [3]\u001b[0m, in \u001b[0;36m<cell line: 11>\u001b[0;34m()\u001b[0m\n\u001b[1;32m      1\u001b[0m \u001b[38;5;66;03m# Now create the data object.\u001b[39;00m\n\u001b[1;32m      2\u001b[0m \n\u001b[1;32m      3\u001b[0m \u001b[38;5;66;03m# By creating this object, data is taken from the SuperDARN database and rearranged into a numpy.array with\u001b[39;00m\n\u001b[0;32m   (...)\u001b[0m\n\u001b[1;32m      9\u001b[0m \u001b[38;5;66;03m# formula.  This is standard when looking at MSTIDs using ground scatter.  See Bristow et al. [1994] for details.\u001b[39;00m\n\u001b[1;32m     10\u001b[0m \u001b[38;5;66;03m# dataObj_IS     = musicArray(myPtr,fovModel='IS')\u001b[39;00m\n\u001b[0;32m---> 11\u001b[0m dataObj     \u001b[38;5;241m=\u001b[39m \u001b[43mmusicArray\u001b[49m\u001b[43m(\u001b[49m\u001b[43mmyPtr\u001b[49m\u001b[43m,\u001b[49m\u001b[43mfovModel\u001b[49m\u001b[38;5;241;43m=\u001b[39;49m\u001b[38;5;124;43m'\u001b[39;49m\u001b[38;5;124;43mIS\u001b[39;49m\u001b[38;5;124;43m'\u001b[39;49m\u001b[43m)\u001b[49m\n",
      "File \u001b[0;32m~/code/MUSIC/music.py:660\u001b[0m, in \u001b[0;36mmusicArray.__init__\u001b[0;34m(self, myPtr, sTime, eTime, param, gscat, fovElevation, fovModel, fovCoords, full_array, scan_index, channel)\u001b[0m\n\u001b[1;32m    656\u001b[0m     \u001b[38;5;66;03m# pass\u001b[39;00m\n\u001b[1;32m    657\u001b[0m     \u001b[38;5;66;03m# radStruct = pydarn.radar.radStruct.radar(radId=myPtr.stid)\u001b[39;00m\n\u001b[1;32m    658\u001b[0m     \u001b[38;5;66;03m# import pdb;pdb.set_trace()\u001b[39;00m\n\u001b[1;32m    659\u001b[0m     site      \u001b[38;5;241m=\u001b[39m radStruct\u001b[38;5;241m.\u001b[39msite(radCode\u001b[38;5;241m=\u001b[39mradCode,dt\u001b[38;5;241m=\u001b[39msTime)\n\u001b[0;32m--> 660\u001b[0m     fov       \u001b[38;5;241m=\u001b[39m \u001b[43mfov\u001b[49m\u001b[43m(\u001b[49m\u001b[43mfrang\u001b[49m\u001b[38;5;241;43m=\u001b[39;49m\u001b[43mmyBeam\u001b[49m\u001b[38;5;241;43m.\u001b[39;49m\u001b[43mprm\u001b[49m\u001b[38;5;241;43m.\u001b[39;49m\u001b[43mfrang\u001b[49m\u001b[43m,\u001b[49m\u001b[43m \u001b[49m\u001b[43mrsep\u001b[49m\u001b[38;5;241;43m=\u001b[39;49m\u001b[43mmyBeam\u001b[49m\u001b[38;5;241;43m.\u001b[39;49m\u001b[43mprm\u001b[49m\u001b[38;5;241;43m.\u001b[39;49m\u001b[43mrsep\u001b[49m\u001b[43m,\u001b[49m\u001b[43m \u001b[49m\u001b[43msite\u001b[49m\u001b[38;5;241;43m=\u001b[39;49m\u001b[43msite\u001b[49m\u001b[43m,\u001b[49m\u001b[43melevation\u001b[49m\u001b[38;5;241;43m=\u001b[39;49m\u001b[43mfovElevation\u001b[49m\u001b[43m,\u001b[49m\u001b[43mmodel\u001b[49m\u001b[38;5;241;43m=\u001b[39;49m\u001b[43mfovModel\u001b[49m\u001b[43m,\u001b[49m\u001b[43mcoords\u001b[49m\u001b[38;5;241;43m=\u001b[39;49m\u001b[43mfovCoords\u001b[49m\u001b[43m)\u001b[49m\n\u001b[1;32m    662\u001b[0m \u001b[38;5;66;03m#Get information from each beam in the scan.\u001b[39;00m\n\u001b[1;32m    663\u001b[0m beamTime \u001b[38;5;241m=\u001b[39m myBeam\u001b[38;5;241m.\u001b[39mtime \n",
      "File \u001b[0;32m~/code/MUSIC/radar/radFov.py:415\u001b[0m, in \u001b[0;36mfov.__init__\u001b[0;34m(self, frang, rsep, site, nbeams, ngates, bmsep, recrise, siteLat, siteLon, siteBore, siteAlt, siteYear, elevation, altitude, hop, model, coords, date_time, coord_alt, fov_dir)\u001b[0m\n\u001b[1;32m    410\u001b[0m         srang_edge[ig] \u001b[38;5;241m=\u001b[39m slant_range_full[ib, ig]\n\u001b[1;32m    413\u001b[0m \u001b[38;5;28;01mif\u001b[39;00m (srang_center[ig] \u001b[38;5;241m!=\u001b[39m \u001b[38;5;241m-\u001b[39m\u001b[38;5;241m1\u001b[39m) \u001b[38;5;129;01mand\u001b[39;00m (srang_edge[ig] \u001b[38;5;241m!=\u001b[39m \u001b[38;5;241m-\u001b[39m\u001b[38;5;241m1\u001b[39m):\n\u001b[1;32m    414\u001b[0m     \u001b[38;5;66;03m# Then calculate projections\u001b[39;00m\n\u001b[0;32m--> 415\u001b[0m     latc, lonc \u001b[38;5;241m=\u001b[39m \u001b[43mcalcFieldPnt\u001b[49m\u001b[43m(\u001b[49m\u001b[43msiteLat\u001b[49m\u001b[43m,\u001b[49m\u001b[43m \u001b[49m\u001b[43msiteLon\u001b[49m\u001b[43m,\u001b[49m\u001b[43m \u001b[49m\u001b[43msiteAlt\u001b[49m\u001b[43m \u001b[49m\u001b[38;5;241;43m*\u001b[39;49m\u001b[43m \u001b[49m\u001b[38;5;241;43m1e-3\u001b[39;49m\u001b[43m,\u001b[49m\n\u001b[1;32m    416\u001b[0m \u001b[43m                              \u001b[49m\u001b[43msiteBore\u001b[49m\u001b[43m,\u001b[49m\u001b[43m \u001b[49m\u001b[43mboff_center\u001b[49m\u001b[43m[\u001b[49m\u001b[43mib\u001b[49m\u001b[43m]\u001b[49m\u001b[43m,\u001b[49m\n\u001b[1;32m    417\u001b[0m \u001b[43m                              \u001b[49m\u001b[43msrang_center\u001b[49m\u001b[43m[\u001b[49m\u001b[43mig\u001b[49m\u001b[43m]\u001b[49m\u001b[43m,\u001b[49m\u001b[43m \u001b[49m\u001b[43melevation\u001b[49m\u001b[38;5;241;43m=\u001b[39;49m\u001b[43mtelv\u001b[49m\u001b[43m,\u001b[49m\n\u001b[1;32m    418\u001b[0m \u001b[43m                              \u001b[49m\u001b[43maltitude\u001b[49m\u001b[38;5;241;43m=\u001b[39;49m\u001b[43mtalt\u001b[49m\u001b[43m,\u001b[49m\u001b[43m \u001b[49m\u001b[43mhop\u001b[49m\u001b[38;5;241;43m=\u001b[39;49m\u001b[43mthop\u001b[49m\u001b[43m,\u001b[49m\n\u001b[1;32m    419\u001b[0m \u001b[43m                              \u001b[49m\u001b[43mmodel\u001b[49m\u001b[38;5;241;43m=\u001b[39;49m\u001b[43mmodel\u001b[49m\u001b[43m,\u001b[49m\u001b[43m \u001b[49m\u001b[43mfov_dir\u001b[49m\u001b[38;5;241;43m=\u001b[39;49m\u001b[43mfov_dir\u001b[49m\u001b[43m)\u001b[49m\n\u001b[1;32m    420\u001b[0m     late, lone \u001b[38;5;241m=\u001b[39m calcFieldPnt(siteLat, siteLon, siteAlt \u001b[38;5;241m*\u001b[39m \u001b[38;5;241m1e-3\u001b[39m,\n\u001b[1;32m    421\u001b[0m                               siteBore, boff_edge[ib],\n\u001b[1;32m    422\u001b[0m                               srang_edge[ig], elevation\u001b[38;5;241m=\u001b[39mtelv,\n\u001b[1;32m    423\u001b[0m                               altitude\u001b[38;5;241m=\u001b[39mtalt, hop\u001b[38;5;241m=\u001b[39mthop,\n\u001b[1;32m    424\u001b[0m                               model\u001b[38;5;241m=\u001b[39mmodel, fov_dir\u001b[38;5;241m=\u001b[39mfov_dir)\n\u001b[1;32m    425\u001b[0m     \u001b[38;5;28;01mif\u001b[39;00m(coords \u001b[38;5;241m!=\u001b[39m \u001b[38;5;124m'\u001b[39m\u001b[38;5;124mgeo\u001b[39m\u001b[38;5;124m'\u001b[39m):\n",
      "File \u001b[0;32m~/code/MUSIC/radar/radFov.py:659\u001b[0m, in \u001b[0;36mcalcFieldPnt\u001b[0;34m(tr_glat, tr_glon, tr_alt, boresight, beam_off, slant_range, adjusted_sr, elevation, altitude, hop, model, coords, gs_loc, max_vh, fov_dir, eval_loc)\u001b[0m\n\u001b[1;32m    657\u001b[0m taz \u001b[38;5;241m=\u001b[39m boresight \u001b[38;5;241m+\u001b[39m boff\n\u001b[1;32m    658\u001b[0m \u001b[38;5;66;03m# calculate position of field point\u001b[39;00m\n\u001b[0;32m--> 659\u001b[0m geo_dict \u001b[38;5;241m=\u001b[39m \u001b[43mgeoPack\u001b[49m\u001b[38;5;241;43m.\u001b[39;49m\u001b[43mcalcDistPnt\u001b[49m\u001b[43m(\u001b[49m\u001b[43mtr_glat\u001b[49m\u001b[43m,\u001b[49m\u001b[43m \u001b[49m\u001b[43mtr_glon\u001b[49m\u001b[43m,\u001b[49m\u001b[43m \u001b[49m\u001b[43mtr_alt\u001b[49m\u001b[43m,\u001b[49m\n\u001b[1;32m    660\u001b[0m \u001b[43m                               \u001b[49m\u001b[43mdist\u001b[49m\u001b[38;5;241;43m=\u001b[39;49m\u001b[43masr\u001b[49m\u001b[43m,\u001b[49m\u001b[43m \u001b[49m\u001b[43mel\u001b[49m\u001b[38;5;241;43m=\u001b[39;49m\u001b[43mtel\u001b[49m\u001b[43m,\u001b[49m\u001b[43m \u001b[49m\u001b[43maz\u001b[49m\u001b[38;5;241;43m=\u001b[39;49m\u001b[43mtaz\u001b[49m\u001b[43m)\u001b[49m\n\u001b[1;32m    662\u001b[0m \u001b[38;5;66;03m# Update Earth radius\u001b[39;00m\n\u001b[1;32m    663\u001b[0m rad_pos \u001b[38;5;241m=\u001b[39m geo_dict[\u001b[38;5;124m'\u001b[39m\u001b[38;5;124mdistRe\u001b[39m\u001b[38;5;124m'\u001b[39m]\n",
      "File \u001b[0;32m~/code/MUSIC/utils/geoPack.py:429\u001b[0m, in \u001b[0;36mcalcDistPnt\u001b[0;34m(origLat, origLon, origAlt, dist, el, az, distLat, distLon, distAlt)\u001b[0m\n\u001b[1;32m    426\u001b[0m     dist \u001b[38;5;241m=\u001b[39m np\u001b[38;5;241m.\u001b[39msqrt(dX\u001b[38;5;241m*\u001b[39m\u001b[38;5;241m*\u001b[39m\u001b[38;5;241m2\u001b[39m \u001b[38;5;241m+\u001b[39m dY\u001b[38;5;241m*\u001b[39m\u001b[38;5;241m*\u001b[39m\u001b[38;5;241m2\u001b[39m \u001b[38;5;241m+\u001b[39m dZ\u001b[38;5;241m*\u001b[39m\u001b[38;5;241m*\u001b[39m\u001b[38;5;241m2\u001b[39m)\n\u001b[1;32m    428\u001b[0m \u001b[38;5;28;01melif\u001b[39;00m distLat \u001b[38;5;129;01mis\u001b[39;00m \u001b[38;5;28;01mNone\u001b[39;00m \u001b[38;5;129;01mand\u001b[39;00m distLon \u001b[38;5;129;01mis\u001b[39;00m \u001b[38;5;28;01mNone\u001b[39;00m \u001b[38;5;129;01mand\u001b[39;00m distAlt \u001b[38;5;129;01mis\u001b[39;00m \u001b[38;5;28;01mNone\u001b[39;00m:\n\u001b[0;32m--> 429\u001b[0m     \u001b[38;5;28;01massert\u001b[39;00m \u001b[38;5;28;43;01mNone\u001b[39;49;00m\u001b[43m \u001b[49m\u001b[38;5;129;43;01mnot\u001b[39;49;00m\u001b[43m \u001b[49m\u001b[38;5;129;43;01min\u001b[39;49;00m\u001b[43m \u001b[49m\u001b[43m[\u001b[49m\u001b[43mdist\u001b[49m\u001b[43m,\u001b[49m\u001b[43m \u001b[49m\u001b[43mel\u001b[49m\u001b[43m,\u001b[49m\u001b[43m \u001b[49m\u001b[43maz\u001b[49m\u001b[43m]\u001b[49m, logging\u001b[38;5;241m.\u001b[39merror(\u001b[38;5;124m'\u001b[39m\u001b[38;5;124mNot enough keywords.\u001b[39m\u001b[38;5;124m'\u001b[39m)\n\u001b[1;32m    431\u001b[0m     \u001b[38;5;66;03m# convert pointing azimuth and elevation to geocentric\u001b[39;00m\n\u001b[1;32m    432\u001b[0m     (gcLat, gcLon, origRe, gaz, gel) \u001b[38;5;241m=\u001b[39m geodToGeocAzEl(origLat, origLon, az,\n\u001b[1;32m    433\u001b[0m                                                       el)\n",
      "\u001b[0;31mValueError\u001b[0m: The truth value of an array with more than one element is ambiguous. Use a.any() or a.all()"
     ]
    }
   ],
   "source": [
    "# Now create the data object.\n",
    "\n",
    "# By creating this object, data is taken from the SuperDARN database and rearranged into a numpy.array with\n",
    "# the shape (Nr Times, Nr Beams, Nr Gates).  Missing data is stored as np.nan.\n",
    "\n",
    "# By default, this command only loads in data where the ground scatter flag is True.\n",
    "\n",
    "# The fovModel='GS' indicates to calculate the field-of-view coordinates in using the ground-scatter mapping\n",
    "# formula.  This is standard when looking at MSTIDs using ground scatter.  See Bristow et al. [1994] for details.\n",
    "# dataObj_IS     = musicArray(myPtr,fovModel='IS')\n",
    "dataObj     = musicArray(myPtr,fovModel='IS')"
   ]
  },
  {
   "cell_type": "code",
   "execution_count": null,
   "metadata": {
    "collapsed": false,
    "jupyter": {
     "outputs_hidden": false
    }
   },
   "outputs": [],
   "source": [
    "# We can list all of the data sets stored in this object.  Right now there is only one data set, but\n",
    "# as we go along, each step of processing will create a new data set.\n",
    "\n",
    "# Each data set is simply stored as an attribute of the dataObj, but the names of all of the data sets can be\n",
    "# accessed through the get_data_sets() method.\n",
    "dataObj.get_data_sets()"
   ]
  },
  {
   "cell_type": "code",
   "execution_count": null,
   "metadata": {
    "collapsed": false,
    "jupyter": {
     "outputs_hidden": false
    }
   },
   "outputs": [],
   "source": [
    "# Information about the data set is saved in it's metadata dictionary.  Some of the information in the metadata\n",
    "# dictionary is used to control certain plotting and processing variables in this module.\n",
    "\n",
    "dataObj.DS000_originalFit.printMetadata()"
   ]
  },
  {
   "cell_type": "code",
   "execution_count": null,
   "metadata": {
    "collapsed": false,
    "jupyter": {
     "outputs_hidden": false
    }
   },
   "outputs": [],
   "source": [
    "# The music module also keeps track of each step of processing in using the data set's history attribute.\n",
    "\n",
    "dataObj.DS000_originalFit.printHistory()"
   ]
  },
  {
   "cell_type": "code",
   "execution_count": null,
   "metadata": {
    "collapsed": false,
    "jupyter": {
     "outputs_hidden": false
    }
   },
   "outputs": [],
   "source": [
    "# The 'active' attribute of dataObj is a reference to the most recently used data set of dataObj.  It is also\n",
    "# the default data set used by all DaViTPy MUSIC processing and plotting routines.  You can see this command\n",
    "# produces the same result as the cell above.\n",
    "\n",
    "dataObj.active.printHistory()"
   ]
  },
  {
   "cell_type": "code",
   "execution_count": null,
   "metadata": {
    "collapsed": false,
    "jupyter": {
     "outputs_hidden": false
    }
   },
   "outputs": [],
   "source": [
    "# We can create an RTI plot and a fan plot from the data we loaded.\n",
    "# You can see that both range gate and geographic latitude are given on the y-axis, and the solar terminator\n",
    "# is also shaded in.  The terminator does not go below approximately range gate 10.  This is because the ground\n",
    "# scatter mapping formula is not defined for close-in range gates.\n",
    "\n",
    "fig = musicRTI(dataObj)"
   ]
  },
  {
   "cell_type": "code",
   "execution_count": null,
   "metadata": {
    "collapsed": false,
    "jupyter": {
     "outputs_hidden": false
    }
   },
   "outputs": [],
   "source": [
    "# We can also make a fan plot.\n",
    "\n",
    "plotTime = datetime.datetime(2010,11,19,14,40)\n",
    "fig = musicFan(dataObj,time=plotTime)\n"
   ]
  },
  {
   "cell_type": "markdown",
   "metadata": {},
   "source": [
    "## Data Selection"
   ]
  },
  {
   "cell_type": "code",
   "execution_count": null,
   "metadata": {
    "collapsed": false,
    "jupyter": {
     "outputs_hidden": false
    }
   },
   "outputs": [],
   "source": [
    "# We want to focus on just the data that contains the MSTID we are looking for, so we can apply some limits.\n",
    "\n",
    "# proc.music.defineLimits() does not actually modify the data, it just marks the data by putting an an entry\n",
    "# into the dataObj.active.metadata dictionary.  The limits will be applied later.  Right now, you can see\n",
    "# what data will be eliminated by making a new RTI plot.\n",
    "\n",
    "defineLimits(dataObj,gateLimits=[10,30])\n",
    "fig = musicRTI(dataObj)"
   ]
  },
  {
   "cell_type": "code",
   "execution_count": null,
   "metadata": {
    "collapsed": false,
    "jupyter": {
     "outputs_hidden": false
    }
   },
   "outputs": [],
   "source": [
    "# We also to restrict the amount of time we process.  Before actually running the music algorithm, we\n",
    "# will be filtering the data using a FIR filter that will eat up data at the beginning and end of the filter.\n",
    "# We can calculate exactly how much time that will be if we know some of the filter characteristics and\n",
    "# the time resolution of the data.  This can then be used to give us new start and end times.\n",
    "\n",
    "# For now, let's say we are going to use a filter with 101 taps and a dataset with 120 s resolution.\n",
    "numtaps = 101\n",
    "timeres = 120\n",
    "\n",
    "#Let's also say that we are interested in the MSTID feature between 1400 and 1600 UT.\n",
    "sTime_of_interest = datetime.datetime(2010,11,19,14,11)\n",
    "eTime_of_interest = datetime.datetime(2010,11,19,16,11)\n",
    "\n",
    "#Now calculate the new start and end times...\n",
    "new_times = filterTimes(sTime_of_interest, eTime_of_interest, timeres, numtaps)\n",
    "defineLimits(dataObj,timeLimits=new_times)\n",
    "\n",
    "fig = musicRTI(dataObj)"
   ]
  },
  {
   "cell_type": "code",
   "execution_count": null,
   "metadata": {
    "collapsed": false,
    "jupyter": {
     "outputs_hidden": false
    }
   },
   "outputs": [],
   "source": [
    "# Now we apply the limits and replot once more.\n",
    "# Note that many of the processing routines will automatically call applyLimits() before they\n",
    "# run the processing algorithm.\n",
    "# prob\n",
    "dataObj.active.applyLimits()\n",
    "fig = musicRTI(dataObj)"
   ]
  },
  {
   "cell_type": "code",
   "execution_count": null,
   "metadata": {
    "collapsed": false,
    "jupyter": {
     "outputs_hidden": false
    }
   },
   "outputs": [],
   "source": [
    "# Note that a new data set was created when we applied the limits.\n",
    "dataObj.get_data_sets()"
   ]
  },
  {
   "cell_type": "code",
   "execution_count": null,
   "metadata": {
    "collapsed": false,
    "jupyter": {
     "outputs_hidden": false
    }
   },
   "outputs": [],
   "source": [
    "# Also note that the history of the new object was updated.\n",
    "dataObj.active.printHistory()"
   ]
  },
  {
   "cell_type": "markdown",
   "metadata": {},
   "source": [
    "## Data Processing"
   ]
  },
  {
   "cell_type": "markdown",
   "metadata": {},
   "source": [
    "### Interpolation and Cartesian Coordinates"
   ]
  },
  {
   "cell_type": "code",
   "execution_count": null,
   "metadata": {
    "collapsed": false,
    "jupyter": {
     "outputs_hidden": false
    }
   },
   "outputs": [],
   "source": [
    "# Before we feed into the MUSIC Algorithm, we don't want our data to have any gaps in time or space.\n",
    "# Let's start by interpolating in space along the beams.\n",
    "beamInterpolation(dataObj)"
   ]
  },
  {
   "cell_type": "code",
   "execution_count": null,
   "metadata": {
    "collapsed": false,
    "jupyter": {
     "outputs_hidden": false
    }
   },
   "outputs": [],
   "source": [
    "import cartopy.crs as ccrs\n",
    "proj= ccrs.PlateCarree()\n",
    "fig = plt.figure(figsize=(20,10))\n",
    "ax  = fig.add_subplot(121, projection=proj,aspect='auto')\n",
    "musicFan(dataObj,plotZeros=True,dataSet='originalFit',axis=ax,time=plotTime)\n",
    "ax  = fig.add_subplot(122, projection=proj, aspect='auto')\n",
    "musicFan(dataObj,plotZeros=True,axis=ax,time=plotTime)"
   ]
  },
  {
   "cell_type": "code",
   "execution_count": null,
   "metadata": {
    "collapsed": false,
    "jupyter": {
     "outputs_hidden": false
    }
   },
   "outputs": [],
   "source": [
    "%debug\n",
    "# We also want to interpolate in time.  timeres=120 [seconds] was set in an earlier cell.\n",
    "timeInterpolation(dataObj,timeRes=timeres)"
   ]
  },
  {
   "cell_type": "code",
   "execution_count": null,
   "metadata": {
    "collapsed": false,
    "jupyter": {
     "outputs_hidden": false
    }
   },
   "outputs": [],
   "source": [
    "timeSeriesMultiPlot(dataObj,dataSet='timeInterpolated',dataSet2='beamInterpolated')"
   ]
  },
  {
   "cell_type": "code",
   "execution_count": null,
   "metadata": {
    "collapsed": false,
    "jupyter": {
     "outputs_hidden": false
    }
   },
   "outputs": [],
   "source": [
    "# We also want need to calculate a local cartesian grid for each cell we are going to use.\n",
    "determineRelativePosition(dataObj)"
   ]
  },
  {
   "cell_type": "code",
   "execution_count": null,
   "metadata": {
    "collapsed": false,
    "jupyter": {
     "outputs_hidden": false
    }
   },
   "outputs": [],
   "source": [
    "#The black cell marks the center of the array.\n",
    "fig = plotRelativeRanges(dataObj,time=plotTime)"
   ]
  },
  {
   "cell_type": "markdown",
   "metadata": {},
   "source": [
    "### Filtering"
   ]
  },
  {
   "cell_type": "code",
   "execution_count": null,
   "metadata": {
    "collapsed": false,
    "jupyter": {
     "outputs_hidden": false
    }
   },
   "outputs": [],
   "source": [
    "# Now filter the data.\n",
    "# numtaps=101 was set in an above cell.  The cutoff_frequencies are in Hz.\n",
    "from music import filter\n",
    "filt = filter(dataObj, numtaps=numtaps, cutoff_low=0.0003, cutoff_high=0.0012)"
   ]
  },
  {
   "cell_type": "code",
   "execution_count": null,
   "metadata": {
    "collapsed": false,
    "jupyter": {
     "outputs_hidden": false
    }
   },
   "outputs": [],
   "source": [
    "# At this point, the data has been filtered and saved to a new data set in dataObj.\n",
    "# Before we look at the data, let's look at the transfer function and impulse response of the data.\n",
    "\n",
    "fig = filt.plotTransferFunction(xmax=0.004)\n",
    "fig = filt.plotImpulseResponse()"
   ]
  },
  {
   "cell_type": "code",
   "execution_count": null,
   "metadata": {
    "collapsed": false,
    "jupyter": {
     "outputs_hidden": false
    }
   },
   "outputs": [],
   "source": [
    "# Let's look at the filtered RTI plot.  We should set autoScale to True since the magnitudes will be much\n",
    "# lower than the original data.\n",
    "\n",
    "fig = musicRTI(dataObj,autoScale=True)"
   ]
  },
  {
   "cell_type": "code",
   "execution_count": null,
   "metadata": {
    "collapsed": false,
    "jupyter": {
     "outputs_hidden": false
    }
   },
   "outputs": [],
   "source": [
    "# You can see that the filter already marked off the data that you shouldn't use.\n",
    "# Just applyLimits() and replot.\n",
    "dataObj.active.applyLimits()\n",
    "fig = musicRTI(dataObj,autoScale=True)"
   ]
  },
  {
   "cell_type": "code",
   "execution_count": null,
   "metadata": {
    "collapsed": false,
    "jupyter": {
     "outputs_hidden": false
    }
   },
   "outputs": [],
   "source": [
    "# Look at a fan plot.\n",
    "fig = musicFan(dataObj,time=plotTime,autoScale=True)"
   ]
  },
  {
   "cell_type": "markdown",
   "metadata": {},
   "source": [
    "### Spectral Analysis"
   ]
  },
  {
   "cell_type": "code",
   "execution_count": null,
   "metadata": {
    "collapsed": false,
    "jupyter": {
     "outputs_hidden": false
    }
   },
   "outputs": [],
   "source": [
    "# We have now run all of the processing needed to feed the data into the spectral analysis and MUSIC.\n",
    "# Let's print the history just to recap what we have done.\n",
    "dataObj.active.printHistory()"
   ]
  },
  {
   "cell_type": "code",
   "execution_count": null,
   "metadata": {
    "collapsed": false,
    "jupyter": {
     "outputs_hidden": false
    }
   },
   "outputs": [],
   "source": [
    "# First thing to do is to calculate the FFT of every cell...\n",
    "from music import calculateFFT\n",
    "calculateFFT(dataObj)"
   ]
  },
  {
   "cell_type": "code",
   "execution_count": null,
   "metadata": {
    "collapsed": false,
    "jupyter": {
     "outputs_hidden": false
    }
   },
   "outputs": [],
   "source": [
    "# We can look at the spectrum of select cells...\n",
    "from plotting.musicPlot import spectrumMultiPlot\n",
    "spectrumMultiPlot(dataObj,xlim=(-0.0025,0.0025))\n",
    "spectrumMultiPlot(dataObj,plotType='magnitude',xlim=(0,0.0025))\n",
    "spectrumMultiPlot(dataObj,plotType='phase',xlim=(0,0.0025))"
   ]
  },
  {
   "cell_type": "code",
   "execution_count": null,
   "metadata": {
    "collapsed": false,
    "jupyter": {
     "outputs_hidden": false
    }
   },
   "outputs": [],
   "source": [
    "# We can also plot the full spectrum.  Here, every FFT bin contains 16 slices,\n",
    "# showing the data for each of the 16 radar beams from left to right.\n",
    "# Range gates are shown on the y-axis.\n",
    "from plotting.musicPlot import plotFullSpectrum\n",
    "plotFullSpectrum(dataObj,xlim=(0,0.00175))"
   ]
  },
  {
   "cell_type": "markdown",
   "metadata": {},
   "source": [
    "### MUSIC Processing"
   ]
  },
  {
   "cell_type": "code",
   "execution_count": null,
   "metadata": {
    "collapsed": false,
    "jupyter": {
     "outputs_hidden": false
    }
   },
   "outputs": [],
   "source": [
    "# Calculate the cross-spectral matrix Dlm.\n",
    "from music import calculateDlm\n",
    "calculateDlm(dataObj)"
   ]
  },
  {
   "cell_type": "code",
   "execution_count": null,
   "metadata": {
    "collapsed": false,
    "jupyter": {
     "outputs_hidden": false
    }
   },
   "outputs": [],
   "source": [
    "# We can look at the Dlm matrix.  This usually isn't necessary for routine processing, but\n",
    "# it is good to know where the numbers are going...\n",
    "from plotting.musicPlot import plotDlm\n",
    "plotDlm(dataObj)"
   ]
  },
  {
   "cell_type": "code",
   "execution_count": null,
   "metadata": {
    "collapsed": false,
    "jupyter": {
     "outputs_hidden": false
    }
   },
   "outputs": [],
   "source": [
    "# Now, we finally run detect the horizontal wave numbers.\n",
    "from music import calculateKarr\n",
    "calculateKarr(dataObj)"
   ]
  },
  {
   "cell_type": "code",
   "execution_count": null,
   "metadata": {
    "collapsed": false,
    "jupyter": {
     "outputs_hidden": false
    }
   },
   "outputs": [],
   "source": [
    "# We can then plot the final result.\n",
    "from plotting.musicPlot import plotKarr\n",
    "plotKarr(dataObj)"
   ]
  },
  {
   "cell_type": "code",
   "execution_count": null,
   "metadata": {
    "collapsed": false,
    "jupyter": {
     "outputs_hidden": false
    }
   },
   "outputs": [],
   "source": [
    "# Again, we can see all of the history gone into processing this plot.\n",
    "dataObj.active.printHistory()"
   ]
  },
  {
   "cell_type": "markdown",
   "metadata": {},
   "source": [
    "### Feature/Signal Detection"
   ]
  },
  {
   "cell_type": "code",
   "execution_count": null,
   "metadata": {
    "collapsed": false,
    "jupyter": {
     "outputs_hidden": false
    }
   },
   "outputs": [],
   "source": [
    "# We can use the image processing library in scikit-image to automatically find the peaks representing signals.\n",
    "from music import detectSignals\n",
    "detectSignals(dataObj)\n",
    "plotKarr(dataObj)"
   ]
  },
  {
   "cell_type": "code",
   "execution_count": null,
   "metadata": {
    "collapsed": false,
    "jupyter": {
     "outputs_hidden": false
    }
   },
   "outputs": [],
   "source": [
    "#All of the parameters connected with these signals is located in the sigDectect attribute.\n",
    "dataObj.active.sigDetect.info"
   ]
  },
  {
   "cell_type": "code",
   "execution_count": null,
   "metadata": {
    "collapsed": false,
    "jupyter": {
     "outputs_hidden": false
    }
   },
   "outputs": [],
   "source": [
    "# It is possible to manually add a signal peak in.\n",
    "# All appropriate associated wave parameters will be calculated.\n",
    "from music import add_signal\n",
    "add_signal(0.013,-0.015,dataObj)\n",
    "plotKarr(dataObj)"
   ]
  },
  {
   "cell_type": "code",
   "execution_count": null,
   "metadata": {
    "collapsed": false,
    "jupyter": {
     "outputs_hidden": false
    }
   },
   "outputs": [],
   "source": [
    "dataObj.active.sigDetect.info"
   ]
  },
  {
   "cell_type": "code",
   "execution_count": null,
   "metadata": {
    "collapsed": false,
    "jupyter": {
     "outputs_hidden": false
    }
   },
   "outputs": [],
   "source": [
    "#Signals can also be removed from the database.\n",
    "from music import del_signal\n",
    "del_signal(4,dataObj)\n",
    "plotKarr(dataObj)"
   ]
  },
  {
   "cell_type": "code",
   "execution_count": null,
   "metadata": {
    "collapsed": false,
    "jupyter": {
     "outputs_hidden": false
    }
   },
   "outputs": [],
   "source": [
    "# To get some insight on how the signal processing algorithm works, we can plot the detected groups.\n",
    "# You can adjust the threshold and neighborhood keywords on pydarn.proc.music.detectSignals() to tweak\n",
    "# the autodetection.\n",
    "from plotting.musicPlot import plotKarrDetected\n",
    "plotKarrDetected(dataObj)"
   ]
  }
 ],
 "metadata": {
  "interpreter": {
   "hash": "767d51c1340bd893661ea55ea3124f6de3c7a262a8b4abca0554b478b1e2ff90"
  },
  "kernelspec": {
   "display_name": "Python 3 (ipykernel)",
   "language": "python",
   "name": "python3"
  },
  "language_info": {
   "codemirror_mode": {
    "name": "ipython",
    "version": 3
   },
   "file_extension": ".py",
   "mimetype": "text/x-python",
   "name": "python",
   "nbconvert_exporter": "python",
   "pygments_lexer": "ipython3",
   "version": "3.9.12"
  }
 },
 "nbformat": 4,
 "nbformat_minor": 4
}
